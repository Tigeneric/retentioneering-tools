{
 "nbformat": 4,
 "nbformat_minor": 0,
 "metadata": {
  "colab": {
   "provenance": []
  },
  "kernelspec": {
   "name": "python3",
   "display_name": "Python 3"
  },
  "language_info": {
   "name": "python"
  }
 },
 "cells": [
  {
   "cell_type": "markdown",
   "source": [
    "## Prerequisites\n",
    "\n",
    "Run this cell to prepare the environment. This step is obligatory."
   ],
   "metadata": {
    "id": "rQbXaUeIB8CB"
   }
  },
  {
   "cell_type": "code",
   "execution_count": null,
   "metadata": {
    "id": "kNJ3aTwQx7JZ",
    "colab": {
     "base_uri": "https://localhost:8080/"
    },
    "executionInfo": {
     "status": "ok",
     "timestamp": 1683128857241,
     "user_tz": -120,
     "elapsed": 40255,
     "user": {
      "displayName": "Julia Ostanina",
      "userId": "13687663492290466770"
     }
    },
    "outputId": "fb8e3fe8-51eb-40f6-9657-e4b7edd6aff5",
    "pycharm": {
     "is_executing": true
    }
   },
   "outputs": [],
   "source": [
    "!pip install retentioneering"
   ]
  },
  {
   "cell_type": "code",
   "source": [
    "import retentioneering\n",
    "import pandas as pd"
   ],
   "metadata": {
    "id": "_d7jIjDbxeF5"
   },
   "execution_count": null,
   "outputs": []
  },
  {
   "cell_type": "markdown",
   "source": [
    "## Stattests\n",
    "\n",
    "The full text of [Stattests](https://doc.retentioneering.com/release3/doc/user_guides/stattests.html) user guide is available on the retentioneering website.\n"
   ],
   "metadata": {
    "id": "RUTq2sSXB9m5"
   }
  },
  {
   "cell_type": "markdown",
   "source": [
    "## Loading data"
   ],
   "metadata": {
    "id": "sQfcdtIJDOjg"
   }
  },
  {
   "cell_type": "code",
   "source": [
    "import numpy as np\n",
    "from retentioneering import datasets\n",
    "\n",
    "stream = datasets.load_simple_shop()"
   ],
   "metadata": {
    "id": "fq_XfrkqBuOj"
   },
   "execution_count": null,
   "outputs": []
  },
  {
   "cell_type": "markdown",
   "source": [
    "## General stattests usage"
   ],
   "metadata": {
    "id": "h9mfnbyZDqRZ"
   }
  },
  {
   "cell_type": "code",
   "source": [
    "data = stream.to_dataframe()\n",
    "users = data['user_id'].unique()\n",
    "index_separator = int(users.shape[0]/2)\n",
    "user_groups = users[:index_separator], users[index_separator:]\n",
    "\n",
    "print(user_groups[0])\n",
    "print(user_groups[1])"
   ],
   "metadata": {
    "colab": {
     "base_uri": "https://localhost:8080/"
    },
    "id": "oR66cpQtj7q6",
    "executionInfo": {
     "status": "ok",
     "timestamp": 1682603220664,
     "user_tz": -120,
     "elapsed": 474,
     "user": {
      "displayName": "Julia Ostanina",
      "userId": "13687663492290466770"
     }
    },
    "outputId": "61f31103-2713-44fa-d33c-b8a1329ad2af"
   },
   "execution_count": null,
   "outputs": [
    {
     "output_type": "stream",
     "name": "stdout",
     "text": [
      "[219483890 964964743 629881394 ... 901422808 523047643 724268790]\n",
      "[315196393 443659932 865093748 ... 965024600 831491833 962761227]\n"
     ]
    }
   ]
  },
  {
   "cell_type": "code",
   "source": [
    "def cart_share(df):\n",
    "    return len(df[df['event'] == 'cart']) / len(df)"
   ],
   "metadata": {
    "id": "-25v7HXzkW3o"
   },
   "execution_count": null,
   "outputs": []
  },
  {
   "cell_type": "code",
   "source": [
    "some_user = user_groups[0][378]\n",
    "cart_share(data[data['user_id'] == some_user])"
   ],
   "metadata": {
    "colab": {
     "base_uri": "https://localhost:8080/"
    },
    "id": "124jBlCHkyyY",
    "executionInfo": {
     "status": "ok",
     "timestamp": 1682603329228,
     "user_tz": -120,
     "elapsed": 326,
     "user": {
      "displayName": "Julia Ostanina",
      "userId": "13687663492290466770"
     }
    },
    "outputId": "4df1b49e-c91b-4e76-a174-b13451913566"
   },
   "execution_count": null,
   "outputs": [
    {
     "output_type": "execute_result",
     "data": {
      "text/plain": [
       "0.15384615384615385"
      ]
     },
     "metadata": {},
     "execution_count": 10
    }
   ]
  },
  {
   "cell_type": "code",
   "source": [
    "stream.stattests(\n",
    "    groups=user_groups,\n",
    "    func=cart_share,\n",
    "    group_names=['random_group_1', 'random_group_2'],\n",
    "    test='ttest'\n",
    ")"
   ],
   "metadata": {
    "colab": {
     "base_uri": "https://localhost:8080/"
    },
    "id": "Yy5EahD3lSzV",
    "executionInfo": {
     "status": "ok",
     "timestamp": 1682604123965,
     "user_tz": -120,
     "elapsed": 3150,
     "user": {
      "displayName": "Julia Ostanina",
      "userId": "13687663492290466770"
     }
    },
    "outputId": "2b9df3f2-d43f-4dc8-8362-7cdebe0dbac0"
   },
   "execution_count": null,
   "outputs": [
    {
     "output_type": "stream",
     "name": "stdout",
     "text": [
      "random_group_1 (mean ± SD): 0.075 ± 0.095, n = 1875\n",
      "random_group_2 (mean ± SD): 0.078 ± 0.102, n = 1876\n",
      "'random_group_1' is greater than 'random_group_2' with p-value: 0.21369\n",
      "power of the test: 8.85%\n"
     ]
    },
    {
     "output_type": "execute_result",
     "data": {
      "text/plain": [
       "<retentioneering.tooling.stattests.stattests.StatTests at 0x7f5a977465e0>"
      ]
     },
     "metadata": {},
     "execution_count": 11
    }
   ]
  },
  {
   "cell_type": "markdown",
   "source": [
    "### Test power"
   ],
   "metadata": {
    "id": "1PbbSM1Flgeo"
   }
  },
  {
   "cell_type": "code",
   "source": [
    "stream.stattests(\n",
    "    groups=user_groups,\n",
    "    func=cart_share,\n",
    "    group_names=['random_group_1', 'random_group_2'],\n",
    "    test='ttest',\n",
    "    alpha=0.01\n",
    ")"
   ],
   "metadata": {
    "colab": {
     "base_uri": "https://localhost:8080/"
    },
    "id": "TlUufhN4lYzA",
    "executionInfo": {
     "status": "ok",
     "timestamp": 1682604154402,
     "user_tz": -120,
     "elapsed": 3643,
     "user": {
      "displayName": "Julia Ostanina",
      "userId": "13687663492290466770"
     }
    },
    "outputId": "6b0491e0-0674-4d65-f1ab-8816129a9082"
   },
   "execution_count": null,
   "outputs": [
    {
     "output_type": "stream",
     "name": "stdout",
     "text": [
      "random_group_1 (mean ± SD): 0.075 ± 0.095, n = 1875\n",
      "random_group_2 (mean ± SD): 0.078 ± 0.102, n = 1876\n",
      "'random_group_1' is greater than 'random_group_2' with p-value: 0.21369\n",
      "power of the test: 2.11%\n"
     ]
    },
    {
     "output_type": "execute_result",
     "data": {
      "text/plain": [
       "<retentioneering.tooling.stattests.stattests.StatTests at 0x7f5a97746fd0>"
      ]
     },
     "metadata": {},
     "execution_count": 12
    }
   ]
  },
  {
   "cell_type": "markdown",
   "source": [
    "### Categorical variables\n"
   ],
   "metadata": {
    "id": "Ke8Wy3khmvXW"
   }
  },
  {
   "cell_type": "code",
   "source": [
    "user_group_1 = set(data[data['event'] == 'product1']['user_id'])\n",
    "user_group_2 = set(data[data['event'] == 'product2']['user_id'])\n",
    "\n",
    "user_group_1 -= user_group_1 & user_group_2\n",
    "user_group_2 -= user_group_1 & user_group_2"
   ],
   "metadata": {
    "id": "MdFdd0qboAhU"
   },
   "execution_count": null,
   "outputs": []
  },
  {
   "cell_type": "code",
   "source": [
    "def cart_count(df):\n",
    "    cart_count = len(df[df['event'] == 'cart'])\n",
    "    if cart_count <= 2:\n",
    "        return str(cart_count)\n",
    "    return '>2'\n",
    "\n",
    "some_user = user_groups[0][378]\n",
    "cart_count(data[data['user_id'] == some_user])"
   ],
   "metadata": {
    "colab": {
     "base_uri": "https://localhost:8080/",
     "height": 35
    },
    "id": "0O0usnq7oBrt",
    "executionInfo": {
     "status": "ok",
     "timestamp": 1682604362598,
     "user_tz": -120,
     "elapsed": 9,
     "user": {
      "displayName": "Julia Ostanina",
      "userId": "13687663492290466770"
     }
    },
    "outputId": "97eadb09-4023-4f57-bbd3-823d2425ab2e"
   },
   "execution_count": null,
   "outputs": [
    {
     "output_type": "execute_result",
     "data": {
      "text/plain": [
       "'2'"
      ],
      "application/vnd.google.colaboratory.intrinsic+json": {
       "type": "string"
      }
     },
     "metadata": {},
     "execution_count": 14
    }
   ]
  },
  {
   "cell_type": "code",
   "source": [
    "some_user = user_groups[0][379]\n",
    "cart_count(data[data['user_id'] == some_user])"
   ],
   "metadata": {
    "colab": {
     "base_uri": "https://localhost:8080/",
     "height": 35
    },
    "id": "x1mUaTxOoHBK",
    "executionInfo": {
     "status": "ok",
     "timestamp": 1682604377152,
     "user_tz": -120,
     "elapsed": 334,
     "user": {
      "displayName": "Julia Ostanina",
      "userId": "13687663492290466770"
     }
    },
    "outputId": "f77e0088-28c3-497f-bcbf-dd60e76d5ba1"
   },
   "execution_count": null,
   "outputs": [
    {
     "output_type": "execute_result",
     "data": {
      "text/plain": [
       "'0'"
      ],
      "application/vnd.google.colaboratory.intrinsic+json": {
       "type": "string"
      }
     },
     "metadata": {},
     "execution_count": 15
    }
   ]
  },
  {
   "cell_type": "markdown",
   "source": [
    "### Chi2 contingency test"
   ],
   "metadata": {
    "id": "Kl4LIOJRn823"
   }
  },
  {
   "cell_type": "code",
   "source": [
    "stream.stattests(\n",
    "    groups=(user_group_1, user_group_2),\n",
    "    func=cart_count,\n",
    "    group_names=('product_1_group', 'product_2_group'),\n",
    "    test='chi2_contingency'\n",
    ")"
   ],
   "metadata": {
    "colab": {
     "base_uri": "https://localhost:8080/"
    },
    "id": "Yw_Z699soSYu",
    "executionInfo": {
     "status": "ok",
     "timestamp": 1682604400755,
     "user_tz": -120,
     "elapsed": 2251,
     "user": {
      "displayName": "Julia Ostanina",
      "userId": "13687663492290466770"
     }
    },
    "outputId": "67151b8c-2e98-401a-fbcb-87cb75103d63"
   },
   "execution_count": null,
   "outputs": [
    {
     "output_type": "stream",
     "name": "stdout",
     "text": [
      "product_1_group (size): n = 580\n",
      "product_2_group (size): n = 1430\n",
      "Group difference test with p-value: 0.00000\n"
     ]
    },
    {
     "output_type": "execute_result",
     "data": {
      "text/plain": [
       "<retentioneering.tooling.stattests.stattests.StatTests at 0x7f5a983deca0>"
      ]
     },
     "metadata": {},
     "execution_count": 16
    }
   ]
  }
 ]
}
